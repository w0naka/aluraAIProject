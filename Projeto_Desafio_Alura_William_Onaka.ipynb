{
  "nbformat": 4,
  "nbformat_minor": 0,
  "metadata": {
    "colab": {
      "provenance": [],
      "authorship_tag": "ABX9TyNmEvytNLOxNBaN9MJNFRAK",
      "include_colab_link": true
    },
    "kernelspec": {
      "name": "python3",
      "display_name": "Python 3"
    },
    "language_info": {
      "name": "python"
    }
  },
  "cells": [
    {
      "cell_type": "markdown",
      "metadata": {
        "id": "view-in-github",
        "colab_type": "text"
      },
      "source": [
        "<a href=\"https://colab.research.google.com/github/w0naka/aluraAIProject/blob/main/Projeto_Desafio_Alura_William_Onaka.ipynb\" target=\"_parent\"><img src=\"https://colab.research.google.com/assets/colab-badge.svg\" alt=\"Open In Colab\"/></a>"
      ]
    },
    {
      "cell_type": "code",
      "execution_count": 1,
      "metadata": {
        "id": "Qmk5MqQEVBlH"
      },
      "outputs": [],
      "source": [
        "!pip install -q -U google-generativeai"
      ]
    },
    {
      "cell_type": "code",
      "source": [
        "# Import the Python SDK\n",
        "import google.generativeai as genai\n",
        "# Used to securely store your API key\n",
        "from google.colab import userdata\n",
        "\n",
        "# Use your API key here\n",
        "GOOGLE_API_KEY=userdata.get('SUA_API_KEY')\n",
        "genai.configure(api_key=GOOGLE_API_KEY)"
      ],
      "metadata": {
        "id": "sqrlIsczVHAg"
      },
      "execution_count": 2,
      "outputs": []
    },
    {
      "cell_type": "code",
      "source": [
        "# model_version = \"gemini-pro-vision\"\n",
        "model_version = \"gemini-pro\"\n",
        "model_vision = \"gemini-pro-vision\"\n",
        "\n",
        "for m in genai.list_models():\n",
        "    if 'generateContent' in m.supported_generation_methods:\n",
        "        print(m.name)"
      ],
      "metadata": {
        "colab": {
          "base_uri": "https://localhost:8080/",
          "height": 145
        },
        "id": "Gw8HfLEBW4AB",
        "outputId": "80681765-9ec5-4972-ffb6-2e1385583753"
      },
      "execution_count": 3,
      "outputs": [
        {
          "output_type": "stream",
          "name": "stdout",
          "text": [
            "models/gemini-1.0-pro\n",
            "models/gemini-1.0-pro-001\n",
            "models/gemini-1.0-pro-latest\n",
            "models/gemini-1.0-pro-vision-latest\n",
            "models/gemini-1.5-pro-latest\n",
            "models/gemini-pro\n",
            "models/gemini-pro-vision\n"
          ]
        }
      ]
    },
    {
      "cell_type": "code",
      "source": [
        "generation_config = {\n",
        "    \"candidate_count\": 1,\n",
        "    \"temperature\": 0.3,\n",
        "}\n",
        "\n",
        "safety_settings = {\n",
        "    \"HARASSMENT\": \"MED\",\n",
        "    \"HATE\": \"MED\",\n",
        "    \"SEXUAL\": \"MED\",\n",
        "    \"DANGEROUS\": \"MED\",\n",
        "}\n",
        "\n",
        "model = genai.GenerativeModel(model_name=model_version,\n",
        "                              generation_config=generation_config,\n",
        "                              safety_settings=safety_settings)\n",
        "\n",
        "visionModel = genai.GenerativeModel(model_name=model_vision,\n",
        "                              generation_config=generation_config,\n",
        "                              safety_settings=safety_settings)"
      ],
      "metadata": {
        "id": "OR-JXetSY-0M"
      },
      "execution_count": 4,
      "outputs": []
    },
    {
      "cell_type": "markdown",
      "source": [
        "Aprendendo a fazer upload de imagens"
      ],
      "metadata": {
        "id": "7sxN74s4eR64"
      }
    },
    {
      "cell_type": "code",
      "source": [
        "# import base64\n",
        "\n",
        "\n",
        "\n",
        "# # Encode to base64\n",
        "# with open('/content/imagemTeste1.JPG', 'rb') as image_file:\n",
        "#     encoded_image = base64.b64encode(image_file.read()).decode('utf-8')\n",
        "\n",
        "# # Decode the base64 string\n",
        "# image = base64.b64decode(encoded_image)\n",
        "\n",
        "# # Creates the file\n",
        "# with open('cat_with_hat.jpg', 'wb') as f:\n",
        "#     f.write(image)\n",
        "\n",
        "# #open the file\n",
        "# from IPython.display import Image\n",
        "# Image(filename='cat_with_hat.jpg')\n"
      ],
      "metadata": {
        "id": "oBJXrRYPW7Jj"
      },
      "execution_count": null,
      "outputs": []
    },
    {
      "cell_type": "markdown",
      "source": [
        "Código para fazer upload de arquivos"
      ],
      "metadata": {
        "id": "i--c5NArSuat"
      }
    },
    {
      "cell_type": "code",
      "source": [
        "from google.colab import files\n",
        "from IPython.display import Image\n",
        "# import base64\n",
        "import PIL.Image\n",
        "\n",
        "\n",
        "\n",
        "askForIngredients = model.generate_content(\"Escreva uma mensagem pedindo ao usuário uma imagem com os ingredientes que ele em disponíveis para usar em uma receita. Não agradeça no final.\")\n",
        "\n",
        "# Upload a file from your local machine\n",
        "print(f\"{askForIngredients.text}\\n\")\n",
        "uploaded = files.upload()\n",
        "\n",
        "# List of base64 images (ingredient list)\n",
        "# image_list_b64 = []\n",
        "\n",
        "# List of images\n",
        "image_list = []\n",
        "\n",
        "# The uploaded file will be in the 'uploaded' dictionary:\n",
        "for filename in uploaded.keys():\n",
        "    # print(f\"Uploaded: {filename}\")\n",
        "# Converting each image in a base64 format\n",
        "    # with open(filename, 'rb') as image_file:\n",
        "    #     encoded_image = base64.b64encode(image_file.read()).decode('utf-8')\n",
        "    # image_list_b64.append(encoded_image)\n",
        "    image_list.append(PIL.Image.open(filename))\n",
        "\n",
        "\n",
        "# Code to visualiza the images\n",
        "# for image_file in image_list_b64:\n",
        "#     image = Image(data=base64.b64decode(image_file))\n",
        "#     display(image)\n",
        "\n"
      ],
      "metadata": {
        "colab": {
          "base_uri": "https://localhost:8080/",
          "height": 290
        },
        "id": "OSbzULMpRxiY",
        "outputId": "2d0e3ba5-24a8-4537-a5cf-a6e553945c8e"
      },
      "execution_count": 6,
      "outputs": [
        {
          "output_type": "stream",
          "name": "stdout",
          "text": [
            "Olá,\n",
            "\n",
            "Estou precisando de ajuda para encontrar uma receita que use os ingredientes que você tem disponíveis.\n",
            "\n",
            "Por favor, envie uma imagem clara dos ingredientes que você possui. Isso me ajudará a sugerir uma receita que atenda às suas necessidades.\n",
            "\n",
            "Obrigado.\n",
            "\n"
          ]
        },
        {
          "output_type": "display_data",
          "data": {
            "text/plain": [
              "<IPython.core.display.HTML object>"
            ],
            "text/html": [
              "\n",
              "     <input type=\"file\" id=\"files-12803a57-9b03-4c87-b11b-c57d9f987555\" name=\"files[]\" multiple disabled\n",
              "        style=\"border:none\" />\n",
              "     <output id=\"result-12803a57-9b03-4c87-b11b-c57d9f987555\">\n",
              "      Upload widget is only available when the cell has been executed in the\n",
              "      current browser session. Please rerun this cell to enable.\n",
              "      </output>\n",
              "      <script>// Copyright 2017 Google LLC\n",
              "//\n",
              "// Licensed under the Apache License, Version 2.0 (the \"License\");\n",
              "// you may not use this file except in compliance with the License.\n",
              "// You may obtain a copy of the License at\n",
              "//\n",
              "//      http://www.apache.org/licenses/LICENSE-2.0\n",
              "//\n",
              "// Unless required by applicable law or agreed to in writing, software\n",
              "// distributed under the License is distributed on an \"AS IS\" BASIS,\n",
              "// WITHOUT WARRANTIES OR CONDITIONS OF ANY KIND, either express or implied.\n",
              "// See the License for the specific language governing permissions and\n",
              "// limitations under the License.\n",
              "\n",
              "/**\n",
              " * @fileoverview Helpers for google.colab Python module.\n",
              " */\n",
              "(function(scope) {\n",
              "function span(text, styleAttributes = {}) {\n",
              "  const element = document.createElement('span');\n",
              "  element.textContent = text;\n",
              "  for (const key of Object.keys(styleAttributes)) {\n",
              "    element.style[key] = styleAttributes[key];\n",
              "  }\n",
              "  return element;\n",
              "}\n",
              "\n",
              "// Max number of bytes which will be uploaded at a time.\n",
              "const MAX_PAYLOAD_SIZE = 100 * 1024;\n",
              "\n",
              "function _uploadFiles(inputId, outputId) {\n",
              "  const steps = uploadFilesStep(inputId, outputId);\n",
              "  const outputElement = document.getElementById(outputId);\n",
              "  // Cache steps on the outputElement to make it available for the next call\n",
              "  // to uploadFilesContinue from Python.\n",
              "  outputElement.steps = steps;\n",
              "\n",
              "  return _uploadFilesContinue(outputId);\n",
              "}\n",
              "\n",
              "// This is roughly an async generator (not supported in the browser yet),\n",
              "// where there are multiple asynchronous steps and the Python side is going\n",
              "// to poll for completion of each step.\n",
              "// This uses a Promise to block the python side on completion of each step,\n",
              "// then passes the result of the previous step as the input to the next step.\n",
              "function _uploadFilesContinue(outputId) {\n",
              "  const outputElement = document.getElementById(outputId);\n",
              "  const steps = outputElement.steps;\n",
              "\n",
              "  const next = steps.next(outputElement.lastPromiseValue);\n",
              "  return Promise.resolve(next.value.promise).then((value) => {\n",
              "    // Cache the last promise value to make it available to the next\n",
              "    // step of the generator.\n",
              "    outputElement.lastPromiseValue = value;\n",
              "    return next.value.response;\n",
              "  });\n",
              "}\n",
              "\n",
              "/**\n",
              " * Generator function which is called between each async step of the upload\n",
              " * process.\n",
              " * @param {string} inputId Element ID of the input file picker element.\n",
              " * @param {string} outputId Element ID of the output display.\n",
              " * @return {!Iterable<!Object>} Iterable of next steps.\n",
              " */\n",
              "function* uploadFilesStep(inputId, outputId) {\n",
              "  const inputElement = document.getElementById(inputId);\n",
              "  inputElement.disabled = false;\n",
              "\n",
              "  const outputElement = document.getElementById(outputId);\n",
              "  outputElement.innerHTML = '';\n",
              "\n",
              "  const pickedPromise = new Promise((resolve) => {\n",
              "    inputElement.addEventListener('change', (e) => {\n",
              "      resolve(e.target.files);\n",
              "    });\n",
              "  });\n",
              "\n",
              "  const cancel = document.createElement('button');\n",
              "  inputElement.parentElement.appendChild(cancel);\n",
              "  cancel.textContent = 'Cancel upload';\n",
              "  const cancelPromise = new Promise((resolve) => {\n",
              "    cancel.onclick = () => {\n",
              "      resolve(null);\n",
              "    };\n",
              "  });\n",
              "\n",
              "  // Wait for the user to pick the files.\n",
              "  const files = yield {\n",
              "    promise: Promise.race([pickedPromise, cancelPromise]),\n",
              "    response: {\n",
              "      action: 'starting',\n",
              "    }\n",
              "  };\n",
              "\n",
              "  cancel.remove();\n",
              "\n",
              "  // Disable the input element since further picks are not allowed.\n",
              "  inputElement.disabled = true;\n",
              "\n",
              "  if (!files) {\n",
              "    return {\n",
              "      response: {\n",
              "        action: 'complete',\n",
              "      }\n",
              "    };\n",
              "  }\n",
              "\n",
              "  for (const file of files) {\n",
              "    const li = document.createElement('li');\n",
              "    li.append(span(file.name, {fontWeight: 'bold'}));\n",
              "    li.append(span(\n",
              "        `(${file.type || 'n/a'}) - ${file.size} bytes, ` +\n",
              "        `last modified: ${\n",
              "            file.lastModifiedDate ? file.lastModifiedDate.toLocaleDateString() :\n",
              "                                    'n/a'} - `));\n",
              "    const percent = span('0% done');\n",
              "    li.appendChild(percent);\n",
              "\n",
              "    outputElement.appendChild(li);\n",
              "\n",
              "    const fileDataPromise = new Promise((resolve) => {\n",
              "      const reader = new FileReader();\n",
              "      reader.onload = (e) => {\n",
              "        resolve(e.target.result);\n",
              "      };\n",
              "      reader.readAsArrayBuffer(file);\n",
              "    });\n",
              "    // Wait for the data to be ready.\n",
              "    let fileData = yield {\n",
              "      promise: fileDataPromise,\n",
              "      response: {\n",
              "        action: 'continue',\n",
              "      }\n",
              "    };\n",
              "\n",
              "    // Use a chunked sending to avoid message size limits. See b/62115660.\n",
              "    let position = 0;\n",
              "    do {\n",
              "      const length = Math.min(fileData.byteLength - position, MAX_PAYLOAD_SIZE);\n",
              "      const chunk = new Uint8Array(fileData, position, length);\n",
              "      position += length;\n",
              "\n",
              "      const base64 = btoa(String.fromCharCode.apply(null, chunk));\n",
              "      yield {\n",
              "        response: {\n",
              "          action: 'append',\n",
              "          file: file.name,\n",
              "          data: base64,\n",
              "        },\n",
              "      };\n",
              "\n",
              "      let percentDone = fileData.byteLength === 0 ?\n",
              "          100 :\n",
              "          Math.round((position / fileData.byteLength) * 100);\n",
              "      percent.textContent = `${percentDone}% done`;\n",
              "\n",
              "    } while (position < fileData.byteLength);\n",
              "  }\n",
              "\n",
              "  // All done.\n",
              "  yield {\n",
              "    response: {\n",
              "      action: 'complete',\n",
              "    }\n",
              "  };\n",
              "}\n",
              "\n",
              "scope.google = scope.google || {};\n",
              "scope.google.colab = scope.google.colab || {};\n",
              "scope.google.colab._files = {\n",
              "  _uploadFiles,\n",
              "  _uploadFilesContinue,\n",
              "};\n",
              "})(self);\n",
              "</script> "
            ]
          },
          "metadata": {}
        },
        {
          "output_type": "stream",
          "name": "stdout",
          "text": [
            "Saving ImagemTest1.png to ImagemTest1.png\n",
            "Saving ImagemTest2.png to ImagemTest2.png\n",
            "Saving imagemTeste2.jpg to imagemTeste2.jpg\n"
          ]
        }
      ]
    },
    {
      "cell_type": "markdown",
      "source": [
        "Aprendendo a descrever imagens"
      ],
      "metadata": {
        "id": "T-UIzL7h8844"
      }
    },
    {
      "cell_type": "code",
      "source": [
        "# import google.generativeai as palm\n",
        "# import base64\n",
        "# import PIL.Image\n",
        "# import textwrap\n",
        "# import pathlib\n",
        "\n",
        "# # Used to securely store your API key\n",
        "# from google.colab import userdata\n",
        "# from IPython.display import display\n",
        "# from IPython.display import Markdown\n",
        "\n",
        "# GOOGLE_API_KEY=userdata.get('GOOGLE_API_KEY')\n",
        "# genai.configure(api_key=GOOGLE_API_KEY)\n",
        "\n",
        "# def to_markdown(text):\n",
        "#   text = text.replace('•', '  *')\n",
        "#   return Markdown(textwrap.indent(text, '> ', predicate=lambda _: True))\n",
        "\n",
        "# ingredientsExample = \"maionese, mostarda, sal, pimenta, bananas, maçãs, leite, manteiga, ovos, peito de frango, bife de patinho, batatas, cebolas, alho, cenoura, brocolis, queijo, presunto, doce de leite, leite condensado, leite de coco, coco, suco de laranja, \"\n",
        "\n",
        "\n",
        "# img = PIL.Image.open('imagemTeste1.jpg')\n",
        "# img\n",
        "\n",
        "# response = visionModel.generate_content(img)\n",
        "\n",
        "# to_markdown(response.text)\n",
        "\n",
        "# response = visionModel.generate_content(\n",
        "#     [\"\"\"Liste todos os ingredientes alimentícios encontrados na imagem.\n",
        "#             Não precisa identificar as quantidades.\n",
        "#             Retorne a lista em uma linha, com os itens separados por vírgula, e terminando com vírgula no último elemento\"\"\",\n",
        "#         img],\n",
        "#     stream=True\n",
        "# )\n",
        "# response.resolve()\n",
        "\n",
        "# to_markdown(response.text)"
      ],
      "metadata": {
        "colab": {
          "base_uri": "https://localhost:8080/",
          "height": 62
        },
        "id": "sSWSKQZ49AtX",
        "outputId": "c5a6a2d1-d587-449b-c584-ab201d03649e"
      },
      "execution_count": 23,
      "outputs": [
        {
          "output_type": "execute_result",
          "data": {
            "text/plain": [
              "<IPython.core.display.Markdown object>"
            ],
            "text/markdown": ">  limão, laranja, maçã, uva, coco, cenoura, beterraba, rabanete, pepino, chuchu, tomate, alface, couve, salsinha, morango, vinagre, azeite."
          },
          "metadata": {},
          "execution_count": 23
        }
      ]
    },
    {
      "cell_type": "markdown",
      "source": [
        "Descrevendo as imagens"
      ],
      "metadata": {
        "id": "hjJRgzFY4Hvw"
      }
    },
    {
      "cell_type": "code",
      "source": [
        "import google.generativeai as palm\n",
        "import base64\n",
        "# import textwrap\n",
        "# import pathlib\n",
        "\n",
        "# Used to securely store your API key\n",
        "from google.colab import userdata\n",
        "from IPython.display import display\n",
        "# from IPython.display import Markdown\n",
        "\n",
        "# def to_markdown(text):\n",
        "#   text = text.replace('•', '  *')\n",
        "#   return Markdown(textwrap.indent(text, '> ', predicate=lambda _: True))\n",
        "\n",
        "# Load the image\n",
        "# ingredientsExample = \"maionese, mostarda, sal, pimenta, bananas, maçãs, leite, manteiga, ovos, peito de frango, bife de patinho, batatas, cebolas, alho, cenoura, brocolis, queijo, presunto, doce de leite, leite condensado, leite de coco, coco, suco de laranja, \"\n",
        "ingredientList = []\n",
        "for img in image_list:\n",
        "#    encoded_image = base64.b64encode(image_64.read()).decode('utf-8')\n",
        "\n",
        "# Create a multimodal prompt with image and text\n",
        "    response = visionModel.generate_content(\n",
        "        [\"\"\"Liste todos os ingredientes alimentícios encontrados na imagem.\n",
        "                Não precisa identificar as quantidades.\n",
        "                Retorne a lista em uma linha, com os itens separados por vírgula, e terminando com vírgula no último elemento.\n",
        "                Caso não identifique nenhum ingrediente, dê uma resposta vazia\"\"\",\n",
        "            img],\n",
        "        stream=True\n",
        "    )\n",
        "    response.resolve()\n",
        "\n",
        "# Print the description of the image\n",
        "    print(response.text)\n",
        "    ingredients = response.text\n",
        "    ingredientList.append(ingredients)\n",
        "\n",
        "ingredientString = \"---Inicio da lista de produtos disponíveis: \"\n",
        "for i in ingredientList:\n",
        "    ingredientString = ingredientString + i\n",
        "ingredientString = ingredientString+\"---Fim da lista---\\n\"\n",
        "print(ingredientString)"
      ],
      "metadata": {
        "colab": {
          "base_uri": "https://localhost:8080/",
          "height": 128
        },
        "id": "EdRBTQGT3_5R",
        "outputId": "a41a96f5-e70f-47d0-9433-f51866ea0b48"
      },
      "execution_count": 8,
      "outputs": [
        {
          "output_type": "stream",
          "name": "stdout",
          "text": [
            " Coco, limão, maçã, tomate, uva, morango, gengibre, beterraba, cenoura, vinagre, suco de uva, suco de maçã.\n",
            " couve-flor, couve, tomate, cenoura, berinjela, rabanete, chuchu, pepino, alface, escarola.\n",
            " Batata palha, carne moída, carne de porco, frango, calabresa, sorvete, batata frita, mandioca, carne de segunda, bife, almôndega, peito de frango, coração de frango, fígado de frango, sobrecoxa de frango, coxa de frango, asas de frango, pé de frango, moela de frango, língua de boi, chuchu, jiló, vagem, feijão de corda, brócolis, couve-flor, cenoura, beterraba, batata, cebola, tomate, pimentão, alho, gengibre, coentro, cebolinha, salsa, hortelã, manjericão, alecrim, tomilho, orégano, manjerona, cominho, pimenta-do-reino, colorau, açafrão, curry, páprica, molho de soja, vinagre, azeite, óleo, mel, açúcar, sal.\n",
            "---Inicio da lista de produtos disponíveis:  Coco, limão, maçã, tomate, uva, morango, gengibre, beterraba, cenoura, vinagre, suco de uva, suco de maçã. couve-flor, couve, tomate, cenoura, berinjela, rabanete, chuchu, pepino, alface, escarola. Batata palha, carne moída, carne de porco, frango, calabresa, sorvete, batata frita, mandioca, carne de segunda, bife, almôndega, peito de frango, coração de frango, fígado de frango, sobrecoxa de frango, coxa de frango, asas de frango, pé de frango, moela de frango, língua de boi, chuchu, jiló, vagem, feijão de corda, brócolis, couve-flor, cenoura, beterraba, batata, cebola, tomate, pimentão, alho, gengibre, coentro, cebolinha, salsa, hortelã, manjericão, alecrim, tomilho, orégano, manjerona, cominho, pimenta-do-reino, colorau, açafrão, curry, páprica, molho de soja, vinagre, azeite, óleo, mel, açúcar, sal.---Fim da lista---\n",
            "\n"
          ]
        }
      ]
    },
    {
      "cell_type": "markdown",
      "source": [
        "Modelo de chat"
      ],
      "metadata": {
        "id": "uYPNdkKVePHk"
      }
    },
    {
      "cell_type": "code",
      "source": [
        "recipeExample = \"\"\"Aqui está uma receita de **Salada de Frango com Frutas**\n",
        "\n",
        "**Ingredientes:**\n",
        "\n",
        "* 1 peito de frango cozido e desfiado\n",
        "* 1 maçã, cortada em cubos\n",
        "* 1 banana grande, cortada em rodelas\n",
        "* 1 tablete de manteiga\n",
        "* 1/2 xícara de cenoura ralada\n",
        "* 1/4 xícara de cebola roxa picada\n",
        "* 1 colher de alho picado\n",
        "* 1/4 xícara de leite de coco\n",
        "* 1/4 xícara de nozes picadas\n",
        "* 1/4 xícara de passas\n",
        "* 1/2 xícara de maionese\n",
        "* 1 colher de sopa de mostarda Dijon\n",
        "* Sal e pimenta a gosto\n",
        "\n",
        "**Instruções:**\n",
        "\n",
        "1. Em uma tigela grande, misture o frango, a maçã, a banana, a cenoura, a cebola, o alho, as nozes e as passas.\n",
        "2. Em uma tigela pequena, misture a manteiga, a maionese, o leite de coco, a mostarda, o sal e a pimenta.\n",
        "3. Despeje o molho sobre a mistura de salada e misture bem.\n",
        "4. Leve à geladeira por pelo menos 30 minutos antes de servir.\"\"\"\n",
        "\n",
        "ingredientsExample = \"---Inicio da lista de produtos disponíveis: maionese, mostarda, sal, pimenta, bananas, maçãs, leite, manteiga, ovos, peito de frango, bife de patinho, batatas, cebolas, alho, cenoura, brocolis, queijo, presunto, doce de leite, leite condensado, leite de coco, coco, suco de laranja, ---Fim da lista---\\n\"\n",
        "\n",
        "chat = model.start_chat(history=[])\n",
        "\n",
        "prompt = \"S\"\n",
        "\n",
        "while (prompt.upper() != \"N\") :\n",
        "    question = model.generate_content(\"Você é um programa que sugere receitas ao usuário. Escreva uma pergunta questionando se o usuário deseja uma receita salgada ou doce\")\n",
        "    recipeType = input(f\"{question.text}\\n(Digite \\\"fim\\\" para sair)\\n\")\n",
        "    if recipeType.upper() == \"FIM\":\n",
        "        break\n",
        "    response = chat.send_message(f\"\"\"Você é um chefe de cozinha. Sugira uma receita {recipeType}\n",
        "                                A receita deve usar ingredientes da lista de produtos disponíveis abaixo:\n",
        "                                {ingredientList}\\n\n",
        "                                A receita pode ter até 2 ingredientes que não esteja na lista de produtos disponíveis.\n",
        "                                Inicie a resposta com algo como, mas não se limitando a: \\\"Aqui está a sua receita de (nome da receita)\\\",\n",
        "                                Revise a lista de ingredientes para garantir que no máximo 2 ingredientes da receita não estavam na lista de produtos disponíveis.\n",
        "                                Em seguida descreva as instruções da receita.\n",
        "                                Revise a receita, de modo a garantir que a lista de ingredientes e as instruções estejam coerentes.\n",
        "                                Exemplo de entrada:\n",
        "                                {ingredientsExample}\n",
        "                                Exemplo de resposta possível:\n",
        "                                {recipeExample}\n",
        "                                \"\"\")\n",
        "\n",
        "    print(f\"{response.text} \\n\")\n",
        "\n",
        "    newRecipeFlag = input(\"Você deseja fazer uma nova receita? (S ou N)\\n\")\n",
        "    if newRecipeFlag.upper() not in [\"S\",\"N\"]:\n",
        "        while newRecipeFlag.upper() not in [\"S\",\"N\"]:\n",
        "            newRecipeFlag = input(\"Desculpe, não entendi.\\nVocê deseja fazer uma nova receita? (S ou N)\\n\")\n",
        "\n",
        "    prompt = newRecipeFlag\n",
        "\n",
        "goodBye = model.generate_content(\"Você é um programa de computador. O usuário está encerrando o programa. Escreva uma mensagem de despedida.\")\n",
        "print(goodBye.text)\n",
        "\n"
      ],
      "metadata": {
        "colab": {
          "base_uri": "https://localhost:8080/",
          "height": 110
        },
        "id": "nv7oXIsAeNXo",
        "outputId": "45a3cf6b-238b-4152-88a1-126f13a858ec"
      },
      "execution_count": 14,
      "outputs": [
        {
          "output_type": "stream",
          "name": "stdout",
          "text": [
            "Você gostaria de uma receita salgada ou doce hoje?\n",
            "(Digite \"fim\" para sair)\n",
            "fim\n",
            "Obrigado por usar este programa. Foi um prazer atendê-lo. Desejo-lhe tudo de bom e espero que nossos caminhos se cruzem novamente no futuro. Adeus!\n"
          ]
        }
      ]
    }
  ]
}